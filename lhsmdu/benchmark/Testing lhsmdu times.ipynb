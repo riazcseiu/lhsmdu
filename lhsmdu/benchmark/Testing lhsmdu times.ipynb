{
 "cells": [
  {
   "cell_type": "code",
   "execution_count": 1,
   "metadata": {},
   "outputs": [],
   "source": [
    "import lhsmdu\n",
    "import matplotlib.pyplot as plt\n",
    "import numpy as np\n",
    "import time"
   ]
  },
  {
   "cell_type": "code",
   "execution_count": 7,
   "metadata": {},
   "outputs": [],
   "source": [
    "def simpleaxis(axes, every=False):\n",
    "    if not isinstance(axes, (list, np.ndarray)):\n",
    "        axes = [axes]\n",
    "    for ax in axes:\n",
    "        ax.spines['top'].set_visible(False)\n",
    "        ax.spines['right'].set_visible(False)\n",
    "        if every:\n",
    "            ax.spines['bottom'].set_visible(False)\n",
    "            ax.spines['left'].set_visible(False)\n",
    "        ax.get_xaxis().tick_bottom()\n",
    "        ax.get_yaxis().tick_left()\n",
    "        ax.set_title('')"
   ]
  },
  {
   "cell_type": "code",
   "execution_count": 5,
   "metadata": {},
   "outputs": [],
   "source": [
    "dimensions = [2**x for x in xrange(1,6)]\n",
    "samples = [4**x for x in xrange(1,6)]"
   ]
  },
  {
   "cell_type": "code",
   "execution_count": 6,
   "metadata": {},
   "outputs": [
    {
     "name": "stdout",
     "output_type": "stream",
     "text": [
      "(4, 2)\n",
      "(4, 4)\n",
      "(4, 8)\n",
      "(4, 16)\n",
      "(4, 32)\n",
      "(16, 2)\n",
      "(16, 4)\n",
      "(16, 8)\n",
      "(16, 16)\n",
      "(16, 32)\n",
      "(64, 2)\n",
      "(64, 4)\n",
      "(64, 8)\n",
      "(64, 16)\n",
      "(64, 32)\n",
      "(256, 2)\n",
      "(256, 4)\n",
      "(256, 8)\n",
      "(256, 16)\n",
      "(256, 32)\n",
      "(1024, 2)\n",
      "(1024, 4)\n",
      "(1024, 8)\n",
      "(1024, 16)\n",
      "(1024, 32)\n"
     ]
    }
   ],
   "source": [
    "timeMatrix = np.zeros(shape=(len(samples),len(dimensions)))\n",
    "for i, sample in enumerate(samples):\n",
    "    for j, dims in enumerate(dimensions):\n",
    "        print(sample, dims)\n",
    "        start = time.time()\n",
    "        a = lhsmdu.sample(dims, sample)\n",
    "        end = time.time()\n",
    "        timeMatrix[i,j] = end - start"
   ]
  },
  {
   "cell_type": "code",
   "execution_count": 15,
   "metadata": {},
   "outputs": [
    {
     "data": {
      "text/plain": [
       "array([[1.02179050e-02, 8.97192955e-03, 8.97598267e-03, 6.03795052e-03,\n",
       "        4.97102737e-03],\n",
       "       [5.00090122e-02, 4.49249744e-02, 4.67948914e-02, 5.19301891e-02,\n",
       "        4.79149818e-02],\n",
       "       [8.00161123e-01, 8.38748932e-01, 7.82464027e-01, 7.80821085e-01,\n",
       "        7.84526825e-01],\n",
       "       [1.61829081e+01, 1.68601389e+01, 2.00680778e+01, 1.69033439e+01,\n",
       "        1.76750431e+01],\n",
       "       [5.04206338e+02, 5.03051975e+02, 5.18113853e+02, 5.34211935e+02,\n",
       "        5.37738328e+02]])"
      ]
     },
     "execution_count": 15,
     "metadata": {},
     "output_type": "execute_result"
    }
   ],
   "source": [
    "timeMatrix"
   ]
  },
  {
   "cell_type": "code",
   "execution_count": 17,
   "metadata": {},
   "outputs": [
    {
     "name": "stdout",
     "output_type": "stream",
     "text": [
      "(array([0.01021791, 0.00897193, 0.00897598, 0.00603795, 0.00497103]), [2, 4, 8, 16, 32])\n",
      "(array([0.05000901, 0.04492497, 0.04679489, 0.05193019, 0.04791498]), [2, 4, 8, 16, 32])\n",
      "(array([0.80016112, 0.83874893, 0.78246403, 0.78082108, 0.78452682]), [2, 4, 8, 16, 32])\n",
      "(array([16.18290806, 16.86013889, 20.0680778 , 16.90334392, 17.67504311]), [2, 4, 8, 16, 32])\n",
      "(array([504.20633817, 503.05197501, 518.11385298, 534.21193504,\n",
      "       537.73832798]), [2, 4, 8, 16, 32])\n"
     ]
    }
   ],
   "source": [
    "for j, row in enumerate(timeMatrix):\n",
    "    print(row, dimensions)\n",
    "    fig, ax = plt.subplots()\n",
    "    ax.plot(dimensions, row, '.-')\n",
    "    ax.set_xlabel(\"Dimensions\")\n",
    "    ax.set_ylabel(\"Time (s)\")\n",
    "    simpleaxis(ax)\n",
    "    ax.set_title(\"Samples = {}\".format(samples[j]))\n",
    "    plt.savefig(\"Runtimes_samples={}\".format(samples[j]))\n",
    "    plt.close()"
   ]
  },
  {
   "cell_type": "code",
   "execution_count": 24,
   "metadata": {},
   "outputs": [
    {
     "name": "stdout",
     "output_type": "stream",
     "text": [
      "[1.02179050e-02 5.00090122e-02 8.00161123e-01 1.61829081e+01\n",
      " 5.04206338e+02]\n",
      "[8.97192955e-03 4.49249744e-02 8.38748932e-01 1.68601389e+01\n",
      " 5.03051975e+02]\n",
      "[8.97598267e-03 4.67948914e-02 7.82464027e-01 2.00680778e+01\n",
      " 5.18113853e+02]\n",
      "[6.03795052e-03 5.19301891e-02 7.80821085e-01 1.69033439e+01\n",
      " 5.34211935e+02]\n",
      "[4.97102737e-03 4.79149818e-02 7.84526825e-01 1.76750431e+01\n",
      " 5.37738328e+02]\n"
     ]
    }
   ],
   "source": [
    "for j, row in enumerate(timeMatrix.T):\n",
    "    print(row)\n",
    "    fig, ax = plt.subplots()\n",
    "    ax.loglog(samples, row, '.-')\n",
    "    ax.set_xlabel(\"Samples\")\n",
    "    ax.set_ylabel(\"Time (s)\")\n",
    "    simpleaxis(ax)\n",
    "    ax.set_title(\"Dims = {}\".format(dimensions[j]))\n",
    "    plt.savefig(\"Runtimes_dims={}\".format(dimensions[j]))\n",
    "    plt.close()"
   ]
  },
  {
   "cell_type": "code",
   "execution_count": null,
   "metadata": {},
   "outputs": [],
   "source": []
  }
 ],
 "metadata": {
  "hide_input": false,
  "kernelspec": {
   "display_name": "Python 2",
   "language": "python",
   "name": "python2"
  },
  "language_info": {
   "codemirror_mode": {
    "name": "ipython",
    "version": 2
   },
   "file_extension": ".py",
   "mimetype": "text/x-python",
   "name": "python",
   "nbconvert_exporter": "python",
   "pygments_lexer": "ipython2",
   "version": "2.7.12"
  },
  "toc": {
   "colors": {
    "hover_highlight": "#DAA520",
    "navigate_num": "#000000",
    "navigate_text": "#333333",
    "running_highlight": "#FF0000",
    "selected_highlight": "#FFD700",
    "sidebar_border": "#EEEEEE",
    "wrapper_background": "#FFFFFF"
   },
   "moveMenuLeft": false,
   "nav_menu": {
    "height": "12px",
    "width": "252px"
   },
   "navigate_menu": true,
   "number_sections": false,
   "sideBar": false,
   "threshold": 4,
   "toc_cell": false,
   "toc_section_display": "block",
   "toc_window_display": false,
   "widenNotebook": false
  },
  "varInspector": {
   "cols": {
    "lenName": 16,
    "lenType": 16,
    "lenVar": 40
   },
   "kernels_config": {
    "python": {
     "delete_cmd_postfix": "",
     "delete_cmd_prefix": "del ",
     "library": "var_list.py",
     "varRefreshCmd": "print(var_dic_list())"
    },
    "r": {
     "delete_cmd_postfix": ") ",
     "delete_cmd_prefix": "rm(",
     "library": "var_list.r",
     "varRefreshCmd": "cat(var_dic_list()) "
    }
   },
   "types_to_exclude": [
    "module",
    "function",
    "builtin_function_or_method",
    "instance",
    "_Feature"
   ],
   "window_display": false
  }
 },
 "nbformat": 4,
 "nbformat_minor": 2
}
